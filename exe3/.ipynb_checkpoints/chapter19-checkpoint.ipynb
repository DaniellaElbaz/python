{
 "cells": [
  {
   "cell_type": "code",
   "execution_count": 1,
   "metadata": {},
   "outputs": [
    {
     "name": "stdout",
     "output_type": "stream",
     "text": [
      "3.0000000017936714\n",
      "2.0000000001370153\n"
     ]
    }
   ],
   "source": [
    "def my_nth_root(x, n, tol):\n",
    "    r = x\n",
    "    while abs(r**n - x) > tol:\n",
    "        r = ((n - 1) * r + x / r**(n - 1)) / n\n",
    "    return r\n",
    "print(my_nth_root(27, 3, 1e-6))\n",
    "print(my_nth_root(16, 4, 1e-6))"
   ]
  },
  {
   "cell_type": "code",
   "execution_count": 5,
   "id": "05e66400",
   "metadata": {},
   "outputs": [
    {
     "name": "stdout",
     "output_type": "stream",
     "text": [
      "0.0\n"
     ]
    }
   ],
   "source": [
    "def my_fixed_point(f, g, tol, max_iter):\n",
    "    def F(x):\n",
    "        return f(x) - g(x)\n",
    "    a, b = -1e10, 1e10\n",
    "    for _ in range(max_iter):\n",
    "        m = (a + b) / 2\n",
    "        if abs(F(m)) < tol:\n",
    "            return m\n",
    "        elif F(a) * F(m) < 0:\n",
    "            b = m\n",
    "        else:\n",
    "            a = m\n",
    "    return []\n",
    "\n",
    "f = lambda x: x**2\n",
    "g = lambda x: x\n",
    "print(my_fixed_point(f, g, 1e-6, 1000))"
   ]
  },
  {
   "cell_type": "code",
   "execution_count": 6,
   "id": "2a868464",
   "metadata": {},
   "outputs": [
    {
     "name": "stdout",
     "output_type": "stream",
     "text": [
      "[1.0, 1.5, 1.25, 1.375, 1.4375] [1.0, 0.25, 0.4375, 0.109375, 0.06640625]\n",
      "[1.0, 0.5, 0.75, 0.875, 0.8125, 0.78125, 0.796875, 0.7890625] [0.30116867893975674, 0.39815702328616975, 0.050050108850486774, 0.12654664407270189, 0.038323093040207756, 0.005866372111545948, 0.01623034166690196, 0.005182142923325084]\n"
     ]
    }
   ],
   "source": [
    "import numpy as np\n",
    "def my_bisection(f, a, b, tol):\n",
    "    R, E = [], []\n",
    "    while abs(a - b) > tol:\n",
    "        m = (a + b) / 2\n",
    "        R.append(m)\n",
    "        E.append(abs(f(m)))\n",
    "        if f(a) * f(m) < 0:\n",
    "            b = m\n",
    "        else:\n",
    "            a = m\n",
    "    return R, E\n",
    "\n",
    "f1 = lambda x: x**2 - 2\n",
    "R1, E1 = my_bisection(f1, 0, 2, 1e-1)\n",
    "print(R1, E1)\n",
    "\n",
    "f2 = lambda x: np.sin(x) - np.cos(x)\n",
    "R2, E2 = my_bisection(f2, 0, 2, 1e-2)\n",
    "print(R2, E2)"
   ]
  },
  {
   "cell_type": "code",
   "execution_count": 7,
   "id": "168f6f4b",
   "metadata": {},
   "outputs": [
    {
     "name": "stdout",
     "output_type": "stream",
     "text": [
      "[2, 1.5, 1.4166666666666667, 1.4142156862745099] [2, 0.25, 0.006944444444444642, 6.007304882871267e-06]\n",
      "[1, 0.782041901539138, 0.7853981759997019] [0.30116867893975674, 0.004746462127804163, 1.7822277875723103e-08]\n"
     ]
    }
   ],
   "source": [
    "def my_newton(f, df, x0, tol):\n",
    "    R, E = [x0], [abs(f(x0))]\n",
    "    x = x0\n",
    "    while abs(f(x)) > tol:\n",
    "        x = x - f(x) / df(x)\n",
    "        R.append(x)\n",
    "        E.append(abs(f(x)))\n",
    "    return R, E\n",
    "\n",
    "f1 = lambda x: x**2 - 2\n",
    "df1 = lambda x: 2 * x\n",
    "R1, E1 = my_newton(f1, df1, 2, 1e-5)\n",
    "print(R1, E1)\n",
    "\n",
    "f2 = lambda x: np.sin(x) - np.cos(x)\n",
    "df2 = lambda x: np.cos(x) + np.sin(x)\n",
    "R2, E2 = my_newton(f2, df2, 1, 1e-5)\n",
    "print(R2, E2)"
   ]
  },
  {
   "cell_type": "code",
   "execution_count": 8,
   "id": "25c73db5",
   "metadata": {},
   "outputs": [
    {
     "name": "stdout",
     "output_type": "stream",
     "text": [
      "28.867512941360474\n",
      "17.67766922712326\n",
      "7.07106739282608\n"
     ]
    }
   ],
   "source": [
    "import math\n",
    "def my_pipe_builder(C_ocean, C_land, L, H):\n",
    "    def total_cost(x):\n",
    "        return C_ocean * math.sqrt(H**2 + x**2) + C_land * (L - x)\n",
    "    a = 0\n",
    "    b = L\n",
    "    tol = 1e-6\n",
    "\n",
    "    while (b - a) > tol:\n",
    "        mid = (a + b) / 2\n",
    "        cost_mid = total_cost(mid)\n",
    "        cost_left = total_cost(mid - tol)\n",
    "        cost_right = total_cost(mid + tol)\n",
    "        if cost_left < cost_mid:\n",
    "            b = mid\n",
    "        elif cost_right < cost_mid:\n",
    "            a = mid\n",
    "        else:\n",
    "            break\n",
    "    return (a + b) / 2\n",
    "print(my_pipe_builder(20, 10, 100, 50))\n",
    "print(my_pipe_builder(30, 10, 100, 50))\n",
    "print(my_pipe_builder(30, 10, 100, 20))"
   ]
  },
  {
   "cell_type": "code",
   "execution_count": 9,
   "id": "a06a7fec",
   "metadata": {},
   "outputs": [
    {
     "name": "stdout",
     "output_type": "stream",
     "text": [
      "x = 1.0\n",
      "x = 1.0\n",
      "x = 1.0\n",
      "x = 1.0\n",
      "x = 1.0\n",
      "x = 1.0\n",
      "x = 1.0\n",
      "x = 1.0\n",
      "x = 1.0\n",
      "x = 1.0\n",
      "x = -1.0\n",
      "x = -1.0\n",
      "x = -1.0\n",
      "x = -1.0\n",
      "x = -1.0\n",
      "x = -1.0\n",
      "x = -1.0\n",
      "x = -1.0\n",
      "x = -1.0\n",
      "x = -1.0\n"
     ]
    }
   ],
   "source": [
    "def newton_raphson_oscillate(f, df, x0, iterations=10):\n",
    "    x = x0\n",
    "    for _ in range(iterations):\n",
    "        x = x - f(x) / df(x)\n",
    "        print(f\"x = {x}\")\n",
    "\n",
    "f = lambda x: x**3 - x\n",
    "df = lambda x: 3 * x**2 - 1\n",
    "newton_raphson_oscillate(f, df, 1)\n",
    "newton_raphson_oscillate(f, df, -1)"
   ]
  }
 ],
 "metadata": {
  "kernelspec": {
   "display_name": "Python 3",
   "language": "python",
   "name": "python3"
  },
  "language_info": {
   "codemirror_mode": {
    "name": "ipython",
    "version": 3
   },
   "file_extension": ".py",
   "mimetype": "text/x-python",
   "name": "python",
   "nbconvert_exporter": "python",
   "pygments_lexer": "ipython3",
   "version": "3.12.2"
  }
 },
 "nbformat": 4,
 "nbformat_minor": 5
}
