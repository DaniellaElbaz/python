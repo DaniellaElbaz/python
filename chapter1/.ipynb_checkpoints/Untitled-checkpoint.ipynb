{
 "cells": [
  {
   "cell_type": "code",
   "execution_count": null,
   "metadata": {},
   "outputs": [],
   "source": []
  },
  {
   "cell_type": "code",
   "execution_count": 1,
   "id": "dbbc3916",
   "metadata": {},
   "outputs": [
    {
     "name": "stdout",
     "output_type": "stream",
     "text": [
      "Type of S: <class 'str'>\n",
      "Type of N: <class 'float'>\n",
      "s1 == s2: False\n",
      "s1.lower() == s2: True\n",
      "s1 == s2.upper(): True\n"
     ]
    }
   ],
   "source": [
    "S = '123'\n",
    "N = float(S)\n",
    "type_S = type(S)\n",
    "type_N = type(N)\n",
    "print(f\"Type of S: {type_S}\")\n",
    "print(f\"Type of N: {type_N}\")\n",
    "\n",
    "#3)\n",
    "s1 = 'HELLO'\n",
    "s2 = 'hello'\n",
    "print(f\"s1 == s2: {s1 == s2}\")\n",
    "print(f\"s1.lower() == s2: {s1.lower() == s2}\")\n",
    "print(f\"s1 == s2.upper(): {s1 == s2.upper()}\")"
   ]
  },
  {
   "cell_type": "code",
   "execution_count": 2,
   "id": "1f7835ff",
   "metadata": {},
   "outputs": [
    {
     "name": "stdout",
     "output_type": "stream",
     "text": [
      "Variable   Type     Data/Info\n",
      "-----------------------------\n",
      "N          float    123.0\n",
      "S          str      123\n",
      "s1         str      HELLO\n",
      "s2         str      hello\n",
      "type_N     type     <class 'float'>\n",
      "type_S     type     <class 'str'>\n"
     ]
    }
   ],
   "source": [
    "%whos"
   ]
  },
  {
   "cell_type": "code",
   "execution_count": 4,
   "id": "e799199a",
   "metadata": {},
   "outputs": [
    {
     "name": "stdout",
     "output_type": "stream",
     "text": [
      "[-10.          -9.7979798   -9.5959596   -9.39393939  -9.19191919\n",
      "  -8.98989899  -8.78787879  -8.58585859  -8.38383838  -8.18181818\n",
      "  -7.97979798  -7.77777778  -7.57575758  -7.37373737  -7.17171717\n",
      "  -6.96969697  -6.76767677  -6.56565657  -6.36363636  -6.16161616\n",
      "  -5.95959596  -5.75757576  -5.55555556  -5.35353535  -5.15151515\n",
      "  -4.94949495  -4.74747475  -4.54545455  -4.34343434  -4.14141414\n",
      "  -3.93939394  -3.73737374  -3.53535354  -3.33333333  -3.13131313\n",
      "  -2.92929293  -2.72727273  -2.52525253  -2.32323232  -2.12121212\n",
      "  -1.91919192  -1.71717172  -1.51515152  -1.31313131  -1.11111111\n",
      "  -0.90909091  -0.70707071  -0.50505051  -0.3030303   -0.1010101\n",
      "   0.1010101    0.3030303    0.50505051   0.70707071   0.90909091\n",
      "   1.11111111   1.31313131   1.51515152   1.71717172   1.91919192\n",
      "   2.12121212   2.32323232   2.52525253   2.72727273   2.92929293\n",
      "   3.13131313   3.33333333   3.53535354   3.73737374   3.93939394\n",
      "   4.14141414   4.34343434   4.54545455   4.74747475   4.94949495\n",
      "   5.15151515   5.35353535   5.55555556   5.75757576   5.95959596\n",
      "   6.16161616   6.36363636   6.56565657   6.76767677   6.96969697\n",
      "   7.17171717   7.37373737   7.57575758   7.77777778   7.97979798\n",
      "   8.18181818   8.38383838   8.58585859   8.78787879   8.98989899\n",
      "   9.19191919   9.39393939   9.5959596    9.7979798   10.        ]\n",
      "[1 2 3]\n",
      "[[3 2 3]\n",
      " [5 2 8]\n",
      " [3 5 9]]\n",
      "[[0. 0. 0. 0.]\n",
      " [0. 0. 0. 0.]]\n",
      "[[0. 1. 0. 0.]\n",
      " [0. 1. 0. 0.]]\n"
     ]
    }
   ],
   "source": [
    "#17)\n",
    "import numpy as np\n",
    "array_17 = np.linspace(-10, 10, 100)\n",
    "print(array_17)\n",
    "#18)\n",
    "array_a = np.array([-1, 0, 1, 2, 0, 3])\n",
    "array_18 = array_a[array_a > 0]\n",
    "print(array_18)\n",
    "#19)\n",
    "y = np.array([\n",
    "    [3, 5, 3],\n",
    "    [2, 2, 5],\n",
    "    [3, 8, 9]\n",
    "])\n",
    "y_transpose = np.transpose(y)\n",
    "print(y_transpose)\n",
    "#20)\n",
    "zero_array = np.zeros((2, 4))\n",
    "print(zero_array)\n",
    "#21)\n",
    "zero_array[:, 1] = 1\n",
    "print(zero_array)"
   ]
  },
  {
   "cell_type": "code",
   "execution_count": 5,
   "id": "8d43fb3a",
   "metadata": {},
   "outputs": [],
   "source": [
    "%reset -f"
   ]
  }
 ],
 "metadata": {
  "kernelspec": {
   "display_name": "Python 3",
   "language": "python",
   "name": "python3"
  },
  "language_info": {
   "codemirror_mode": {
    "name": "ipython",
    "version": 3
   },
   "file_extension": ".py",
   "mimetype": "text/x-python",
   "name": "python",
   "nbconvert_exporter": "python",
   "pygments_lexer": "ipython3",
   "version": "3.12.2"
  }
 },
 "nbformat": 4,
 "nbformat_minor": 5
}
