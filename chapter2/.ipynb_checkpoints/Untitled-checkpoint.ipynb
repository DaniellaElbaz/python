{
 "cells": [
  {
   "cell_type": "code",
   "execution_count": 6,
   "metadata": {},
   "outputs": [
    {
     "name": "stdout",
     "output_type": "stream",
     "text": [
      "The hyperbolic sine of 1.0 is 1.1752011936438014\n"
     ]
    }
   ],
   "source": [
    "import numpy as np\n",
    "def my_sinh(x):\n",
    "    y = (np.exp(x) - np.exp(-x)) / 2\n",
    "    return y\n",
    "x = 1.0\n",
    "y = my_sinh(x)\n",
    "print(f\"The hyperbolic sine of {x} is {y}\")\n"
   ]
  },
  {
   "cell_type": "code",
   "execution_count": 1,
   "id": "f85da1cd",
   "metadata": {},
   "outputs": [
    {
     "name": "stdout",
     "output_type": "stream",
     "text": [
      "The hyperbolic sine of 0 is 0.0\n"
     ]
    }
   ],
   "source": [
    "import numpy as np\n",
    "def my_sinh(x):\n",
    "    y = (np.exp(x) - np.exp(-x)) / 2\n",
    "    return y\n",
    "x = 0\n",
    "y = my_sinh(x)\n",
    "print(f\"The hyperbolic sine of {x} is {y}\")\n",
    "\n"
   ]
  },
  {
   "cell_type": "code",
   "execution_count": 2,
   "id": "1e64cfef",
   "metadata": {},
   "outputs": [
    {
     "name": "stdout",
     "output_type": "stream",
     "text": [
      "The hyperbolic sine of 2.0 is 3.626860407847019\n"
     ]
    }
   ],
   "source": [
    "import numpy as np\n",
    "def my_sinh(x):\n",
    "    y = (np.exp(x) - np.exp(-x)) / 2\n",
    "    return y\n",
    "x = 2.0\n",
    "y = my_sinh(x)\n",
    "print(f\"The hyperbolic sine of {x} is {y}\")"
   ]
  },
  {
   "cell_type": "code",
   "execution_count": 6,
   "id": "8a403f6a",
   "metadata": {},
   "outputs": [
    {
     "name": "stdout",
     "output_type": "stream",
     "text": [
      "[[1]]\n",
      "[[1 0]\n",
      " [0 1]]\n",
      "[[1 0 1]\n",
      " [0 1 0]\n",
      " [1 0 1]]\n",
      "[[1 0 1 0 1]\n",
      " [0 1 0 1 0]\n",
      " [1 0 1 0 1]\n",
      " [0 1 0 1 0]\n",
      " [1 0 1 0 1]]\n"
     ]
    }
   ],
   "source": [
    "import numpy as np\n",
    "\n",
    "def my_checker_board(n):\n",
    "    return np.array([[1 if (i + j) % 2 == 0 else 0 for j in range(n)] for i in range(n)])\n",
    "\n",
    "print(my_checker_board(1))\n",
    "print(my_checker_board(2))\n",
    "print(my_checker_board(3))\n",
    "print(my_checker_board(5))"
   ]
  },
  {
   "cell_type": "code",
   "execution_count": 7,
   "id": "4de6e053",
   "metadata": {},
   "outputs": [
    {
     "name": "stdout",
     "output_type": "stream",
     "text": [
      "0.5\n",
      "1.0\n",
      "30.0\n"
     ]
    }
   ],
   "source": [
    "#Triangle Area\n",
    "def my_triangle(b, h):\n",
    "    return 0.5 * b * h\n",
    "print(my_triangle(1, 1))\n",
    "print(my_triangle(2, 1))\n",
    "print(my_triangle(12, 5))"
   ]
  },
  {
   "cell_type": "code",
   "execution_count": 8,
   "id": "c2be3f19",
   "metadata": {},
   "outputs": [
    {
     "name": "stdout",
     "output_type": "stream",
     "text": [
      "[[1 2]\n",
      " [4 5]\n",
      " [7 8]]\n",
      "[[3]\n",
      " [6]\n",
      " [9]]\n",
      "[[1. 1. 1.]\n",
      " [1. 1. 1.]\n",
      " [1. 1. 1.]\n",
      " [1. 1. 1.]\n",
      " [1. 1. 1.]]\n",
      "[[1. 1.]\n",
      " [1. 1.]\n",
      " [1. 1.]\n",
      " [1. 1.]\n",
      " [1. 1.]]\n"
     ]
    }
   ],
   "source": [
    "def my_split_matrix(m):\n",
    "    mid = (m.shape[1] + 1) // 2\n",
    "    m1 = m[:, :mid]\n",
    "    m2 = m[:, mid:]\n",
    "    return m1, m2\n",
    "\n",
    "m = np.array([[1, 2, 3], [4, 5, 6], [7, 8, 9]])\n",
    "m1, m2 = my_split_matrix(m)\n",
    "print(m1)\n",
    "print(m2)\n",
    "\n",
    "m = np.ones((5, 5))\n",
    "m1, m2 = my_split_matrix(m)\n",
    "print(m1)\n",
    "print(m2)"
   ]
  },
  {
   "cell_type": "code",
   "execution_count": 11,
   "id": "fdca8c9a",
   "metadata": {},
   "outputs": [
    {
     "name": "stdout",
     "output_type": "stream",
     "text": [
      "[37.6991, 15.708]\n"
     ]
    }
   ],
   "source": [
    "import math\n",
    "\n",
    "def my_cylinder(r, h):\n",
    "    surface_area = 2 * math.pi * r * (r + h)\n",
    "    volume = math.pi * r ** 2 * h\n",
    "    return [round(surface_area, 4), round(volume, 4)]\n",
    "\n",
    "print(my_cylinder(1, 5))"
   ]
  },
  {
   "cell_type": "code",
   "execution_count": 12,
   "id": "9a64abac",
   "metadata": {},
   "outputs": [
    {
     "name": "stdout",
     "output_type": "stream",
     "text": [
      "50\n",
      "0\n"
     ]
    }
   ],
   "source": [
    "def my_n_odds(a):\n",
    "    return sum(1 for x in a if x % 2 != 0)\n",
    "\n",
    "print(my_n_odds(np.arange(100)))\n",
    "print(my_n_odds(np.arange(2, 100, 2)))"
   ]
  },
  {
   "cell_type": "code",
   "execution_count": 13,
   "id": "d290ffd1",
   "metadata": {},
   "outputs": [
    {
     "name": "stdout",
     "output_type": "stream",
     "text": [
      "[[2 2]\n",
      " [2 2]\n",
      " [2 2]]\n",
      "[[2 2 2 2]]\n"
     ]
    }
   ],
   "source": [
    "def my_twos(m, n):\n",
    "    return np.full((m, n), 2)\n",
    "print(my_twos(3, 2))\n",
    "print(my_twos(1, 4))"
   ]
  },
  {
   "cell_type": "code",
   "execution_count": 14,
   "id": "05b6232f",
   "metadata": {},
   "outputs": [
    {
     "name": "stdout",
     "output_type": "stream",
     "text": [
      "Programming isfun!\n"
     ]
    }
   ],
   "source": [
    "def add_string(s1, s2):\n",
    "    return s1 + s2\n",
    "s1 = add_string('Programming', ' ')\n",
    "s2 = add_string('is', ' fun!')\n",
    "print(add_string(s1, s2))"
   ]
  },
  {
   "cell_type": "code",
   "execution_count": 15,
   "id": "78cdf85c",
   "metadata": {},
   "outputs": [
    {
     "name": "stdout",
     "output_type": "stream",
     "text": [
      "Programming is fun!\n"
     ]
    }
   ],
   "source": [
    "subtract = lambda x, y: x - y\n",
    "\n",
    "# 2. String concatenation\n",
    "def add_string(s1, s2):\n",
    "    return s1 + s2\n",
    "s1 = add_string('Programming', ' ')\n",
    "s2 = add_string('is', ' fun!')\n",
    "print(add_string(s1, s2))"
   ]
  },
  {
   "cell_type": "code",
   "execution_count": 16,
   "id": "48654f1c",
   "metadata": {},
   "outputs": [
    {
     "name": "stdout",
     "output_type": "stream",
     "text": [
      "fun() missing 1 required positional argument: 'a'\n",
      "Hi, my name is John and I am 26 years old.\n",
      "Hi, my name is Kate and I am 19 years old.\n"
     ]
    }
   ],
   "source": [
    "try:\n",
    "    def fun(a):\n",
    "        pass\n",
    "    fun()\n",
    "except TypeError as e:\n",
    "    print(e)\n",
    "\n",
    "def wrong_indent():\n",
    " pass\n",
    "\n",
    "# 2. Greeting Function\n",
    "def greeting(name, age):\n",
    "    return f'Hi, my name is {name} and I am {age} years old.'\n",
    "\n",
    "print(greeting('John', 26))\n",
    "print(greeting('Kate', 19))"
   ]
  },
  {
   "cell_type": "code",
   "execution_count": 17,
   "id": "0c74d077",
   "metadata": {},
   "outputs": [
    {
     "name": "stdout",
     "output_type": "stream",
     "text": [
      "[ 9.42477796 37.69911184 84.82300165]\n"
     ]
    }
   ],
   "source": [
    "def my_donut_area(r1, r2):\n",
    "    return np.pi * (r2**2 - r1**2)\n",
    "\n",
    "print(my_donut_area(np.arange(1, 4), np.arange(2, 7, 2)))"
   ]
  },
  {
   "cell_type": "code",
   "execution_count": 18,
   "id": "3b8fb454",
   "metadata": {},
   "outputs": [
    {
     "name": "stdout",
     "output_type": "stream",
     "text": [
      "[1, 2]\n",
      "[47, 48, 49, 50, 51, 52]\n"
     ]
    }
   ],
   "source": [
    "def my_within_tolerance(A, a, tol):\n",
    "    return [i for i, x in enumerate(A) if abs(x - a) < tol]\n",
    "\n",
    "print(my_within_tolerance([0, 1, 2, 3], 1.5, 0.75))\n",
    "print(my_within_tolerance(np.arange(0, 1.01, 0.01), 0.5, 0.03))"
   ]
  },
  {
   "cell_type": "code",
   "execution_count": 19,
   "id": "787bcaa9",
   "metadata": {},
   "outputs": [
    {
     "name": "stdout",
     "output_type": "stream",
     "text": [
      "[-3, -3, -3, -2, -1, 0, 1, 2, 3, 3, 3]\n"
     ]
    }
   ],
   "source": [
    "\n",
    "def bounding_array(A, top, bottom):\n",
    "    return [min(max(x, bottom), top) for x in A]\n",
    "\n",
    "print(bounding_array(np.arange(-5, 6, 1), 3, -3))"
   ]
  }
 ],
 "metadata": {
  "kernelspec": {
   "display_name": "Python 3",
   "language": "python",
   "name": "python3"
  },
  "language_info": {
   "codemirror_mode": {
    "name": "ipython",
    "version": 3
   },
   "file_extension": ".py",
   "mimetype": "text/x-python",
   "name": "python",
   "nbconvert_exporter": "python",
   "pygments_lexer": "ipython3",
   "version": "3.12.2"
  }
 },
 "nbformat": 4,
 "nbformat_minor": 5
}
