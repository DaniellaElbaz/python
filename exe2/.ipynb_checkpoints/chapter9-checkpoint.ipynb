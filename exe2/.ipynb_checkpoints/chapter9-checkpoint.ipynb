{
 "cells": [
  {
   "cell_type": "code",
   "execution_count": 1,
   "metadata": {},
   "outputs": [
    {
     "name": "stdout",
     "output_type": "stream",
     "text": [
      "7\n",
      "85\n",
      "33554431\n"
     ]
    }
   ],
   "source": [
    "\n",
    "def my_bin_2_dec(b):\n",
    "    d = 0\n",
    "    for i, bit in enumerate(reversed(b)):\n",
    "        d += bit * (2 ** i)\n",
    "    return d\n",
    "\n",
    "print(my_bin_2_dec([1, 1, 1]))\n",
    "print(my_bin_2_dec([1, 0, 1, 0, 1, 0, 1]))\n",
    "print(my_bin_2_dec([1] * 25))"
   ]
  },
  {
   "cell_type": "code",
   "execution_count": 2,
   "id": "136f20bc",
   "metadata": {},
   "outputs": [
    {
     "name": "stdout",
     "output_type": "stream",
     "text": [
      "[0]\n",
      "[1, 0, 1, 1, 1]\n",
      "[1, 0, 0, 0, 0, 0, 1, 1, 0, 0, 0, 1]\n"
     ]
    }
   ],
   "source": [
    "def my_dec_2_bin(d):\n",
    "    if d == 0:\n",
    "        return [0]\n",
    "    b = []\n",
    "    while d > 0:\n",
    "        b.append(d % 2)\n",
    "        d //= 2\n",
    "    b.reverse()\n",
    "    return b\n",
    "\n",
    "print(my_dec_2_bin(0))\n",
    "print(my_dec_2_bin(23))\n",
    "print(my_dec_2_bin(2097))"
   ]
  },
  {
   "cell_type": "code",
   "execution_count": 3,
   "id": "267614af",
   "metadata": {},
   "outputs": [
    {
     "name": "stdout",
     "output_type": "stream",
     "text": [
      "12654\n"
     ]
    }
   ],
   "source": [
    "d = my_bin_2_dec(my_dec_2_bin(12654))\n",
    "print(d)"
   ]
  },
  {
   "cell_type": "code",
   "execution_count": 4,
   "id": "b08f91f2",
   "metadata": {},
   "outputs": [
    {
     "name": "stdout",
     "output_type": "stream",
     "text": [
      "[1, 0, 0, 0, 0, 0]\n",
      "[1, 1, 1, 0, 0, 1, 1]\n",
      "[1, 0, 1, 1]\n"
     ]
    }
   ],
   "source": [
    "def my_bin_adder(b1, b2):\n",
    "    max_len = max(len(b1), len(b2))\n",
    "    b1 = [0] * (max_len - len(b1)) + b1\n",
    "    b2 = [0] * (max_len - len(b2)) + b2\n",
    "    result = []\n",
    "    carry = 0\n",
    "    for i in range(max_len - 1, -1, -1):\n",
    "        total = b1[i] + b2[i] + carry\n",
    "        result.append(total % 2)\n",
    "        carry = total // 2\n",
    "    if carry:\n",
    "        result.append(carry)\n",
    "    result.reverse()\n",
    "    return result\n",
    "\n",
    "print(my_bin_adder([1, 1, 1, 1, 1], [1]))\n",
    "print(my_bin_adder([1, 1, 1, 1, 1], [1, 0, 1, 0, 1, 0, 0]))\n",
    "print(my_bin_adder([1, 1, 0], [1, 0, 1]))"
   ]
  },
  {
   "cell_type": "code",
   "execution_count": 6,
   "id": "fb85546a",
   "metadata": {},
   "outputs": [
    {
     "name": "stdout",
     "output_type": "stream",
     "text": [
      "-48.0\n",
      "3.4\n"
     ]
    }
   ],
   "source": [
    "#IEEE 754 to Decimal\n",
    "def my_ieee_2_dec(ieee):\n",
    "    sign = int(ieee[0])\n",
    "    exponent = int(ieee[1:12], 2) - 1023\n",
    "    mantissa_bin = ieee[12:]\n",
    "    mantissa = 1\n",
    "    for i, bit in enumerate(mantissa_bin):\n",
    "        mantissa += int(bit) * (2 ** -(i + 1))\n",
    "    decimal = mantissa * (2 ** exponent)\n",
    "    if sign == 1:\n",
    "        decimal *= -1\n",
    "    return decimal\n",
    "\n",
    "print(my_ieee_2_dec('1100000001001000000000000000000000000000000000000000000000000000'))\n",
    "print(my_ieee_2_dec('0100000000001011001100110011001100110011001100110011001100110011'))"
   ]
  },
  {
   "cell_type": "code",
   "execution_count": 7,
   "id": "1009b72b",
   "metadata": {},
   "outputs": [
    {
     "name": "stdout",
     "output_type": "stream",
     "text": [
      "0011111111111000010010111011011000010110100011100001110100100000\n",
      "1100000001110011010100100100010010010001001010011000100010010000\n",
      "1100000011011000101010010000000000000000000000000000000000000000\n"
     ]
    }
   ],
   "source": [
    "import struct\n",
    "\n",
    "def my_dec_2_ieee(d):\n",
    "    ieee = ''.join(f'{c:08b}' for c in struct.pack('!d', d))\n",
    "    return ieee\n",
    "print(my_dec_2_ieee(1.518484199625))\n",
    "print(my_dec_2_ieee(-309.141740))\n",
    "print(my_dec_2_ieee(-25252))"
   ]
  },
  {
   "cell_type": "code",
   "execution_count": 8,
   "id": "a2fd30e3",
   "metadata": {},
   "outputs": [
    {
     "name": "stdout",
     "output_type": "stream",
     "text": [
      "2.220446049250313e-16\n"
     ]
    }
   ],
   "source": [
    "import numpy as np\n",
    "\n",
    "smallest_gap = np.spacing(1.0)\n",
    "print(smallest_gap)"
   ]
  }
 ],
 "metadata": {
  "kernelspec": {
   "display_name": "Python 3",
   "language": "python",
   "name": "python3"
  },
  "language_info": {
   "codemirror_mode": {
    "name": "ipython",
    "version": 3
   },
   "file_extension": ".py",
   "mimetype": "text/x-python",
   "name": "python",
   "nbconvert_exporter": "python",
   "pygments_lexer": "ipython3",
   "version": "3.12.2"
  }
 },
 "nbformat": 4,
 "nbformat_minor": 5
}
